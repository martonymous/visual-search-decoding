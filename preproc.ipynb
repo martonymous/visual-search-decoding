{
 "cells": [
  {
   "cell_type": "code",
   "execution_count": 5,
   "metadata": {},
   "outputs": [],
   "source": [
    "import h5py\n",
    "import numpy as np\n",
    "import pandas as pd\n",
    "\n",
    "\n",
    "def load_gaze_data(h5_file: h5py.Dataset, output='pandas'):\n",
    "    \"\"\"\n",
    "    Load gaze data from a Titta-generated HDF5 file.\n",
    "    \"\"\"\n",
    "    with h5py.File(h5_file, 'r') as f:\n",
    "        labels = np.array(f['gaze']['axis0'])\n",
    "\n",
    "        categorical_data  = np.array(f['gaze']['block0_values'])\n",
    "        categorical_labels = labels[28:]\n",
    "\n",
    "        measurement_data = np.array(f['gaze']['block1_values'])\n",
    "        measurement_labels = labels[2:28]\n",
    "\n",
    "        timestamps = np.array(f['gaze']['block2_values'])\n",
    "        timestamp_labels = labels[:2]\n",
    "\n",
    "    if output == 'pandas':\n",
    "        categorical_data = pd.DataFrame(categorical_data, columns=categorical_labels)\n",
    "        measurement_data = pd.DataFrame(measurement_data, columns=measurement_labels)\n",
    "        timestamps = pd.DataFrame(timestamps, columns=timestamp_labels)\n",
    "\n",
    "        return categorical_data, measurement_data, timestamps\n",
    "\n",
    "    return (categorical_data, categorical_labels), (measurement_data, measurement_labels), (timestamps, timestamp_labels)"
   ]
  },
  {
   "cell_type": "code",
   "execution_count": 6,
   "metadata": {},
   "outputs": [],
   "source": [
    "\n",
    "def preprocess_raw(df: pd.DataFrame):\n",
    "    \n",
    "    df['rx'] = df[b'right_gaze_point_on_display_area_x'].interpolate()\n",
    "    df['ry'] = df[b'right_gaze_point_on_display_area_y'].interpolate()\n",
    "    df['lx'] = df[b'left_gaze_point_on_display_area_x'].interpolate()\n",
    "    df['ly'] = df[b'left_gaze_point_on_display_area_y'].interpolate()\n",
    "\n",
    "    d = pd.DataFrame()\n",
    "    d['x'] = (df['rx'] + df['lx']) / 2\n",
    "    d['y'] = (df['ry'] + df['ly']) / 2\n",
    "\n",
    "    return d"
   ]
  },
  {
   "cell_type": "code",
   "execution_count": 7,
   "metadata": {},
   "outputs": [],
   "source": [
    "\n",
    "def calculate_dispersion(x, y):\n",
    "    \"\"\"\n",
    "    Calculate the dispersion of a set of x and y points.\n",
    "    Dispersion = max(x) - min(x) + max(y) - min(y)\n",
    "    \"\"\"\n",
    "    if len(x) < 2:\n",
    "        return 0\n",
    "    return (np.max(x) - np.min(x)) + (np.max(y) - np.min(y))\n",
    "\n",
    "def dispersion_fixation_detection(gaze_data, dispersion_threshold, min_duration_ms):\n",
    "    \"\"\"\n",
    "    I-DT dispersion-based fixation detection algorithm.\n",
    "\n",
    "    gaze_data: DataFrame with 'time', 'x', 'y' columns.\n",
    "    dispersion_threshold: Max dispersion (in pixels or degrees).\n",
    "    min_duration_ms: Minimum duration for a fixation (in milliseconds).\n",
    "\n",
    "    Returns a list of fixations, each as a (start_time, end_time, centroid_x, centroid_y).\n",
    "    \"\"\"\n",
    "    fixations = []\n",
    "    start_idx = 0\n",
    "    while start_idx < len(gaze_data):\n",
    "        end_idx = start_idx\n",
    "        while end_idx < len(gaze_data):\n",
    "            window = gaze_data.iloc[start_idx:end_idx+1]\n",
    "            dispersion = calculate_dispersion(window['x'], window['y'])\n",
    "\n",
    "            if dispersion > dispersion_threshold:\n",
    "                break\n",
    "\n",
    "            end_idx += 1\n",
    "\n",
    "        duration = gaze_data.iloc[end_idx-1]['time'] - gaze_data.iloc[start_idx]['time']\n",
    "\n",
    "        if duration >= min_duration_ms:\n",
    "            fixation_x = window['x'].mean()\n",
    "            fixation_y = window['y'].mean()\n",
    "            fixations.append((gaze_data.iloc[start_idx]['time'], gaze_data.iloc[end_idx-1]['time'], fixation_x, fixation_y))\n",
    "\n",
    "        start_idx = end_idx\n",
    "\n",
    "    return fixations"
   ]
  },
  {
   "cell_type": "code",
   "execution_count": 11,
   "metadata": {},
   "outputs": [],
   "source": [
    "\n",
    "categorical, continuous, time = load_gaze_data('test1.h5')\n",
    "df = preprocess_raw(continuous)\n",
    "df['time'] = time[b'device_time_stamp']"
   ]
  },
  {
   "cell_type": "code",
   "execution_count": 12,
   "metadata": {},
   "outputs": [
    {
     "data": {
      "text/html": [
       "<div>\n",
       "<style scoped>\n",
       "    .dataframe tbody tr th:only-of-type {\n",
       "        vertical-align: middle;\n",
       "    }\n",
       "\n",
       "    .dataframe tbody tr th {\n",
       "        vertical-align: top;\n",
       "    }\n",
       "\n",
       "    .dataframe thead th {\n",
       "        text-align: right;\n",
       "    }\n",
       "</style>\n",
       "<table border=\"1\" class=\"dataframe\">\n",
       "  <thead>\n",
       "    <tr style=\"text-align: right;\">\n",
       "      <th></th>\n",
       "      <th>x</th>\n",
       "      <th>y</th>\n",
       "      <th>time</th>\n",
       "    </tr>\n",
       "  </thead>\n",
       "  <tbody>\n",
       "    <tr>\n",
       "      <th>0</th>\n",
       "      <td>NaN</td>\n",
       "      <td>NaN</td>\n",
       "      <td>254444590452</td>\n",
       "    </tr>\n",
       "    <tr>\n",
       "      <th>1</th>\n",
       "      <td>328.245789</td>\n",
       "      <td>0.633861</td>\n",
       "      <td>254444598681</td>\n",
       "    </tr>\n",
       "    <tr>\n",
       "      <th>2</th>\n",
       "      <td>328.268005</td>\n",
       "      <td>0.634459</td>\n",
       "      <td>254444607189</td>\n",
       "    </tr>\n",
       "    <tr>\n",
       "      <th>3</th>\n",
       "      <td>328.266937</td>\n",
       "      <td>0.639287</td>\n",
       "      <td>254444615357</td>\n",
       "    </tr>\n",
       "    <tr>\n",
       "      <th>4</th>\n",
       "      <td>328.265869</td>\n",
       "      <td>0.652838</td>\n",
       "      <td>254444623692</td>\n",
       "    </tr>\n",
       "  </tbody>\n",
       "</table>\n",
       "</div>"
      ],
      "text/plain": [
       "            x         y          time\n",
       "0         NaN       NaN  254444590452\n",
       "1  328.245789  0.633861  254444598681\n",
       "2  328.268005  0.634459  254444607189\n",
       "3  328.266937  0.639287  254444615357\n",
       "4  328.265869  0.652838  254444623692"
      ]
     },
     "execution_count": 12,
     "metadata": {},
     "output_type": "execute_result"
    }
   ],
   "source": [
    "df.head()"
   ]
  },
  {
   "cell_type": "code",
   "execution_count": 22,
   "metadata": {},
   "outputs": [
    {
     "name": "stdout",
     "output_type": "stream",
     "text": [
      "[(254444590452.0, 254454273489.0, 328.598, 0.4517263), (254454281980.0, 254456566043.0, 310.69104, 0.32589325), (254456574391.0, 254464605386.0, 332.99463, 0.4913532), (254464613938.0, 254466526704.0, 325.30075, 0.52031934), (254466534999.0, 254473630353.0, 325.77878, 0.49208772), (254473638690.0, 254477828415.0, 312.2322, 0.41410905), (254477836795.0, 254478028450.0, 308.6863, 0.54790145), (254478036824.0, 254478691870.0, 325.12234, 0.5263269), (254478700309.0, 254478991978.0, 302.11005, 0.52282107), (254479000204.0, 254481630338.0, 338.96426, 0.5141976), (254481638529.0, 254481721943.0, 319.0298, 0.5439858), (254481730276.0, 254536076097.0, 332.34476, 0.4225398), (254536084373.0, 254537772346.0, 317.84274, 0.26783204), (254537780774.0, 254549463855.0, 334.71088, 0.43794817), (254549472116.0, 254550326515.0, 302.86618, 0.38385627), (254550334917.0, 254652237645.0, 334.5225, 0.43992943), (254652246048.0, 254661820862.0, 330.80365, 0.552817), (254661829197.0, 254678988143.0, 330.59473, 0.52231246), (254678996446.0, 254686521294.0, 338.7808, 0.5196491), (254686529616.0, 254687204528.0, 327.85538, 0.51412195), (254687212893.0, 254703443059.0, 330.601, 0.44613555)]\n"
     ]
    }
   ],
   "source": [
    "\n",
    "fixations = dispersion_fixation_detection(df, dispersion_threshold=32, min_duration_ms=20)\n",
    "print(fixations)"
   ]
  },
  {
   "cell_type": "code",
   "execution_count": 23,
   "metadata": {},
   "outputs": [
    {
     "data": {
      "text/plain": [
       "21"
      ]
     },
     "execution_count": 23,
     "metadata": {},
     "output_type": "execute_result"
    }
   ],
   "source": [
    "len(fixations)"
   ]
  },
  {
   "cell_type": "code",
   "execution_count": null,
   "metadata": {},
   "outputs": [],
   "source": [
    "def map_fixations_to_screen(fixations, stimulus_data_file):\n",
    "    # Load the stimulus data\n",
    "    stimulus_data = pd.read_csv(stimulus_data_file)\n",
    "    \n",
    "    # Create a list to store the fixation features\n",
    "    fixation_features = []\n",
    "\n",
    "    for fixation in fixations:\n",
    "        start_time, end_time, x, y = fixation\n",
    "        duration = end_time - start_time\n",
    "\n",
    "        # Find the object in the stimulus data that corresponds to the fixation location\n",
    "        object_data = stimulus_data[(stimulus_data['x_min'] <= x) & (stimulus_data['x_max'] >= x) &\n",
    "                                    (stimulus_data['y_min'] <= y) & (stimulus_data['y_max'] >= y)]\n",
    "\n",
    "        if not object_data.empty:\n",
    "            object_features = object_data.iloc[0].to_dict()\n",
    "            object_features['fixation_duration'] = duration\n",
    "            fixation_features.append(object_features)\n",
    "\n",
    "    return fixation_features\n",
    "\n",
    "def save_fixation_features(fixation_features, output_file):\n",
    "    # Convert the fixation features to a DataFrame\n",
    "    fixation_features_df = pd.DataFrame(fixation_features)\n",
    "    \n",
    "    # Save the DataFrame to a CSV file\n",
    "    fixation_features_df.to_csv(output_file, index=False)\n",
    "\n",
    "# Example usage\n",
    "stimulus_data_file = 'stimulus_data.csv'\n",
    "output_file = 'fixation_features.csv'\n",
    "\n",
    "fixation_features = map_fixations_to_screen(fixations, stimulus_data_file)\n",
    "save_fixation_features(fixation_features, output_file)\n",
    "\n",
    "# Collect data from multiple trials and create histograms\n",
    "all_fixation_features = []\n",
    "\n",
    "# Assuming you have a list of trials with their corresponding stimulus data files\n",
    "trials = ['trial1_stimulus_data.csv', 'trial2_stimulus_data.csv', ...]\n",
    "\n",
    "for trial in trials:\n",
    "    fixation_features = map_fixations_to_screen(fixations, trial)\n",
    "    all_fixation_features.extend(fixation_features)\n",
    "\n",
    "all_fixation_features_df = pd.DataFrame(all_fixation_features)\n",
    "\n",
    "# Create histograms for the amount of time spent on distractor and target features\n",
    "distractor_time = all_fixation_features_df[all_fixation_features_df['feature_type'] == 'distractor']['fixation_duration']\n",
    "target_time = all_fixation_features_df[all_fixation_features_df['feature_type'] == 'target']['fixation_duration']\n",
    "\n",
    "distractor_time.hist(bins=50, alpha=0.5, label='Distractor')\n",
    "target_time.hist(bins=50, alpha=0.5, label='Target')\n",
    "\n",
    "# plt.legend()\n",
    "# plt.xlabel('Fixation Duration')\n",
    "# plt.ylabel('Frequency')\n",
    "# plt.title('Histogram of Fixation Durations on Distractor and Target Features')\n",
    "# plt.show()"
   ]
  },
  {
   "cell_type": "code",
   "execution_count": null,
   "metadata": {},
   "outputs": [],
   "source": []
  }
 ],
 "metadata": {
  "kernelspec": {
   "display_name": "Python 3",
   "language": "python",
   "name": "python3"
  },
  "language_info": {
   "codemirror_mode": {
    "name": "ipython",
    "version": 3
   },
   "file_extension": ".py",
   "mimetype": "text/x-python",
   "name": "python",
   "nbconvert_exporter": "python",
   "pygments_lexer": "ipython3",
   "version": "3.11.9"
  }
 },
 "nbformat": 4,
 "nbformat_minor": 2
}
